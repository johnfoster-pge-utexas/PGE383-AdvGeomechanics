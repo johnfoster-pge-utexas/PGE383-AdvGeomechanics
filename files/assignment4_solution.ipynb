{
 "cells": [
  {
   "cell_type": "markdown",
   "metadata": {},
   "source": [
    "## Problem 1\n",
    "\n",
    "Consider the following two-dimensional diffision problem. Use the discretization below to solve for the"
   ]
  },
  {
   "cell_type": "markdown",
   "metadata": {},
   "source": [
    "<img src='images/assignment4.png'>"
   ]
  },
  {
   "cell_type": "markdown",
   "metadata": {},
   "source": [
    "unknown diffusing concentrations at the nodes with $a = 1$ and $u_o = 100$ assuming a consistent unit system.  The diffusion coefficient matrix is the identity matrix. Perform the following tasks:\n",
    "\n",
    " 1. Solve the given problem.\n",
    "\n",
    " 2. Create effective plot(s) to visualize your results from 1. "
   ]
  },
  {
   "cell_type": "markdown",
   "metadata": {},
   "source": [
    "**Note:**  Submit a working version of your code to [Canvas](https://utexas.instructure.com/courses/1119539).  Any supplemental material explaining your answer in part (b) can be turned in to me via hard copy or scanned and submitted to Canvas with your code."
   ]
  },
  {
   "cell_type": "markdown",
   "metadata": {},
   "source": [
    "**Solution**\n",
    "\n",
    "Below we will write the class and methods that will help us solve the problem."
   ]
  },
  {
   "cell_type": "code",
   "execution_count": 1,
   "metadata": {},
   "outputs": [],
   "source": [
    "import numpy as np\n",
    "import scipy.linalg\n",
    "import scipy.sparse\n",
    "import scipy.sparse.linalg\n",
    "\n",
    "class TwoDimFEM():\n",
    "    \n",
    "    def __init__(self, nodes, connect, C=np.array([[1., 0, 0], [0, 1., 0], [0, 0, 0]])):\n",
    "        \"\"\"\n",
    "           Initialize the model.\n",
    "           \n",
    "           input: nodes -> the nodal locations as a Numpy array of (x,y) pairs.\n",
    "           input: connect -> the connectivitiy array\n",
    "           output: the model problem object\n",
    "           \n",
    "        \"\"\"\n",
    "        \n",
    "        self.X = nodes[:,0]\n",
    "        self.Y = nodes[:,1]\n",
    "        #Subtract 1 to convert node numbers to be consistent with Numpy 0 indexing\n",
    "        self.connect = (connect - 1)\n",
    "        \n",
    "        self.num_elem = len(self.connect)\n",
    "        self.num_dof = len(self.X)\n",
    "        \n",
    "        self.Cmat = C\n",
    "        \n",
    "        #Allocate global tangent and r.h.s vector\n",
    "        self.K = np.zeros((self.num_dof, self.num_dof), dtype=np.double)\n",
    "        self.F = np.zeros(self.num_dof, dtype=np.double)\n",
    "        \n",
    "    \n",
    "    def N(self, xi, eta):\n",
    "        \"\"\"Compute linear shape functions in natural coordinates.\"\"\"\n",
    "        \n",
    "        return [1 / 4. - eta / 4. - xi / 4. + (eta * xi) / 4.,\n",
    "                1 / 4. - eta / 4. + xi / 4. - (eta * xi) / 4., \n",
    "                1 / 4. + eta / 4. + xi / 4. + (eta * xi) / 4.,\n",
    "                1 / 4. + eta / 4. - xi / 4. - (eta * xi) / 4.]\n",
    "        \n",
    "        \n",
    "    def dNdxi(self, eta):\n",
    "        \"\"\"Compute shape function derivatives with respect to xi\"\"\"\n",
    "        \n",
    "        return [-1 / 4. + eta / 4., \n",
    "                 1 / 4. - eta / 4., \n",
    "                 1 / 4. + eta / 4., \n",
    "                -1 / 4. - eta / 4.]\n",
    "                \n",
    "                \n",
    "    def dNdeta(self, xi):\n",
    "        \"\"\"Compute shape function derivatives with respect to eta\"\"\"\n",
    "        \n",
    "        return [-1 / 4. + xi / 4.,\n",
    "                -1 / 4. - xi / 4.,\n",
    "                 1 / 4. + xi / 4.,\n",
    "                 1 / 4. - xi / 4.]\n",
    "    \n",
    "    \n",
    "    def compute_jacobian_matrix_and_inverse(self, xi, eta):\n",
    "        \"\"\"\n",
    "           Compute the Jacobian matrix, Det(J) and B for every element\n",
    "        \"\"\"\n",
    "        \n",
    "        x = self.X\n",
    "        y = self.Y\n",
    "        con = self.connect\n",
    "        \n",
    "        #Understand we are broadcasting the dot product to every element\n",
    "        J11 = np.dot(x[con], self.dNdxi(xi))\n",
    "        J12 = np.dot(y[con], self.dNdxi(xi))\n",
    "        J21 = np.dot(x[con], self.dNdeta(eta))\n",
    "        J22 = np.dot(y[con], self.dNdeta(eta))\n",
    "        \n",
    "        #detJ is a vector containing the Jacobian determinate for every element\n",
    "        self.detJ = J11 * J22 - J12 * J21\n",
    "        \n",
    "        self.Jinv11 =  J22 / self.detJ\n",
    "        self.Jinv12 = -J12 / self.detJ\n",
    "        self.Jinv21 = -J21 / self.detJ\n",
    "        self.Jinv22 =  J11 / self.detJ\n",
    "        \n",
    "        \n",
    "    def compute_B_matrix(self, xi, eta):\n",
    "        \"\"\"Computes the B matrix for a given xi and eta\"\"\"\n",
    "        \n",
    "        #Returns detJ and Jinv components for this xi and eta\n",
    "        self.compute_jacobian_matrix_and_inverse(xi, eta)\n",
    "        \n",
    "        \n",
    "        Nmat = np.zeros((3, 4), dtype=np.double)\n",
    "        Nmat[0,:] = self.dNdxi(xi)\n",
    "        Nmat[1,:] = self.dNdeta(eta)\n",
    "        Nmat[2,:] = self.N(xi, eta)\n",
    "        \n",
    "        zero = np.zeros(len(self.detJ))\n",
    "        one = np.ones(len(self.detJ))\n",
    "        \n",
    "        Jmat = np.array([[self.Jinv11, self.Jinv12, zero],\n",
    "                         [self.Jinv21, self.Jinv22, zero],\n",
    "                         [       zero,        zero,  one]])\n",
    "        \n",
    "        #B = J * N\n",
    "        return np.einsum('jk...,kl', Jmat, Nmat)\n",
    "    \n",
    "    \n",
    "    def compute_stiffness_integrand(self, xi, eta):\n",
    "        \"\"\"Computes the integrand of the stiffness matrix for this xi and eta\"\"\"\n",
    "            \n",
    "        Cmat = self.Cmat\n",
    "            \n",
    "        #Returns B\n",
    "        self.Bmat = self.compute_B_matrix(xi, eta)\n",
    "            \n",
    "        #ke_{il} = B_{ji} C_{jk} B_{kl} \\det(J)\n",
    "        return np.einsum('...ji,jk,...kl,...',self.Bmat,Cmat,self.Bmat,self.detJ)\n",
    "    \n",
    "    \n",
    "    def integrate_element_matrices(self):\n",
    "        \"\"\"Integrate stiffness matrix with Gauss integration\"\"\"\n",
    "            \n",
    "        #Use 2 x 2 Gauss integration\n",
    "        wts = [1., 1.]\n",
    "        pts = [-np.sqrt(1 / 3.), np.sqrt(1 / 3.)]\n",
    "            \n",
    "        ke = np.zeros((self.num_elem, 4, 4))\n",
    "            \n",
    "        for i in range(2):\n",
    "            for j in range(2):\n",
    "                ke += wts[i] * wts[j] * self.compute_stiffness_integrand(pts[i], pts[j])\n",
    "                    \n",
    "        return ke\n",
    "    \n",
    "    \n",
    "    def assemble(self):\n",
    "        \"\"\"Assemble element stiffness into global\"\"\"\n",
    "        \n",
    "        #Check if using natural coordinate quads, if so we will integrate using Gauss integration\n",
    "        if len(connect[0]) == 4:\n",
    "        \n",
    "            ke = self.integrate_element_matrices()\n",
    "        \n",
    "            for i in range(self.num_elem):\n",
    "            \n",
    "                idx_grid = np.ix_(self.connect[i], self.connect[i])\n",
    "                self.K[idx_grid]  += ke[i]\n",
    "        \n",
    "        #Check if using triangles, if so we will use the analytic stiffness matrix\n",
    "        elif len(connect[0]) == 3:\n",
    "            \n",
    "            c00 = self.Cmat[2,2]\n",
    "            c11 = self.Cmat[0,0]\n",
    "            c12 = self.Cmat[0,1]\n",
    "            c21 = self.Cmat[1,0]\n",
    "            c22 = self.Cmat[1,1]\n",
    "            \n",
    "            ke = np.array([[1 / 12. * (c00 + 6 * (c11 + c12 + c21 + c22)),\n",
    "                            1 / 24. * (c00 - 12 * (c11 + c21)),\n",
    "                            1 / 24. * (c00 - 12 * (c12 + c22))],\n",
    "                           [1 / 24. * (c00 - 12 * (c11 + c12)), \n",
    "                            1 / 12. * (c00 + 6 * c11), \n",
    "                            1 / 24. * (c00 + 12 * c12)],\n",
    "                           [1 / 24. * (c00 - 12 * (c21 + c22)), \n",
    "                            1 / 24. * (c00 + 12 * c21),\n",
    "                            1 / 12. * (c00 + 6 * c22)]])\n",
    "            \n",
    "            for i in range(self.num_elem):\n",
    "            \n",
    "                idx_grid = np.ix_(self.connect[i], self.connect[i])\n",
    "                self.K[idx_grid]  += ke\n",
    "            \n",
    "    \n",
    "    def apply_essential_bc(self, nodes, values):\n",
    "        \"\"\"\n",
    "           Modifies stiffness matrix and r.h.s. vector for essential b.c.'s\n",
    "           at location of nodes with corresponding values.\n",
    "        \"\"\"\n",
    "        \n",
    "        #Subtract 1 to bring the node numbers into alignment with Python indexing\n",
    "        node_idx = nodes - 1\n",
    "        \n",
    "        row_replace = np.zeros(self.num_dof)\n",
    "        \n",
    "        for value_idx, node in enumerate(node_idx):        \n",
    "            \n",
    "            \n",
    "            self.K[node] = row_replace\n",
    "            self.K[node,node] = 1\n",
    "            \n",
    "            self.F[node] = values[value_idx]\n",
    "            \n",
    "            \n",
    "    def solve(self):\n",
    "        \"\"\"Solve the global system of equations\"\"\"\n",
    "        \n",
    "        self.K = scipy.sparse.csr_matrix(self.K)\n",
    "        \n",
    "        return scipy.sparse.linalg.spsolve(self.K,self.F)"
   ]
  },
  {
   "cell_type": "markdown",
   "metadata": {},
   "source": [
    "Now we can solve the problem.  I will answer part (2) first using the square elements with linear isoparametric interpolation."
   ]
  },
  {
   "cell_type": "code",
   "execution_count": 2,
   "metadata": {},
   "outputs": [
    {
     "data": {
      "text/plain": [
       "array([  61.28417886,   53.07365574,   30.64208943,    0.        ,\n",
       "         70.29995898,   60.88155036,   35.14997949,    0.        ,\n",
       "        100.        ,   86.60254038,   50.        ,    0.        ])"
      ]
     },
     "execution_count": 2,
     "metadata": {},
     "output_type": "execute_result"
    }
   ],
   "source": [
    "#The node locations\n",
    "nodes = np.array([[0,0],[1,0],[2,0],[3,0],\n",
    "                 [0,1],[1,1],[2,1],[3,1],\n",
    "                 [0,2],[1,2],[2,2],[3,2]], dtype=np.double)\n",
    "\n",
    "#The connectivity array for the quadratic elements using standard node numbering scheme\n",
    "connect = np.array([[1, 2, 6, 5],\n",
    "                   [2, 3, 7, 6],\n",
    "                   [3, 4, 8, 7],\n",
    "                   [5, 6, 10, 9],\n",
    "                   [6, 7, 11, 10],\n",
    "                   [7, 8, 12, 11]], dtype=np.int64)\n",
    "\n",
    "#Create a boundary condition node set and vaules for the top side\n",
    "ns1 = np.array([9, 10, 11, 12], dtype=np.int64)\n",
    "val1 = np.cos(np.pi * np.array([0., 1., 2., 3.]) / 6.) * 100\n",
    "\n",
    "#Create a boundary condition node set for the right side\n",
    "ns2 = np.array([4, 8, 12], dtype=np.int64)\n",
    "val2 = np.zeros(len(ns2))\n",
    "\n",
    "#Instatiate the problem\n",
    "problem = TwoDimFEM(nodes, connect)\n",
    "#Assemble\n",
    "problem.assemble()\n",
    "#Apply boundary conditions\n",
    "problem.apply_essential_bc(ns1,val1)\n",
    "problem.apply_essential_bc(ns2,val2)\n",
    "#Solve\n",
    "u = problem.solve()\n",
    "u"
   ]
  },
  {
   "cell_type": "code",
   "execution_count": 3,
   "metadata": {},
   "outputs": [
    {
     "name": "stderr",
     "output_type": "stream",
     "text": [
      "/Users/john/miniconda3/lib/python3.5/site-packages/matplotlib/collections.py:590: FutureWarning: elementwise comparison failed; returning scalar instead, but in the future will perform elementwise comparison\n",
      "  if self._edgecolors == str('face'):\n"
     ]
    },
    {
     "data": {
      "image/png": "[encoded data removed]",
      "text/plain": [
       "<matplotlib.figure.Figure at 0x1042c7550>"
      ]
     },
     "metadata": {},
     "output_type": "display_data"
    }
   ],
   "source": [
    "%matplotlib inline\n",
    "import matplotlib.pyplot as plt\n",
    "#Plot the results\n",
    "plot = plt.contourf(nodes[:,0].reshape(3,4), nodes[:,1].reshape(3,4), u.reshape(3,4),cmap=\"coolwarm\")\n",
    "plt.colorbar(plot, orientation='horizontal', shrink=0.6);\n",
    "plt.clim(0,100)\n",
    "plt.axes().set_aspect('equal')"
   ]
  },
  {
   "cell_type": "markdown",
   "metadata": {},
   "source": [
    "Now we will solve part (1) using the triangles and an analytic stiffness matrix"
   ]
  },
  {
   "cell_type": "code",
   "execution_count": 4,
   "metadata": {},
   "outputs": [],
   "source": [
    "#The node locations are the same, so we will updated the connectivities\n",
    "connect = np.array([[5, 1, 6],\n",
    "                    [2, 6, 1],\n",
    "                    [6, 2, 7],\n",
    "                    [3, 7, 2],\n",
    "                    [7, 3, 8],\n",
    "                    [4, 8, 3],\n",
    "                    [9, 5, 10],\n",
    "                    [6, 10, 5],\n",
    "                    [10, 6, 11],\n",
    "                    [7, 11, 6],\n",
    "                    [11, 7, 12],\n",
    "                    [8, 12, 7]], dtype=np.int64)\n",
    "\n",
    "#Instantiate the problem\n",
    "problem = TwoDimFEM(nodes, connect)\n",
    "#Assemble\n",
    "problem.assemble()\n",
    "#Apply boundary conditions\n",
    "problem.apply_essential_bc(ns1,val1)\n",
    "problem.apply_essential_bc(ns2,val2)\n",
    "#Solve\n",
    "u = problem.solve()"
   ]
  },
  {
   "cell_type": "code",
   "execution_count": 5,
   "metadata": {},
   "outputs": [
    {
     "name": "stderr",
     "output_type": "stream",
     "text": [
      "/Users/john/miniconda3/lib/python3.5/site-packages/matplotlib/collections.py:590: FutureWarning: elementwise comparison failed; returning scalar instead, but in the future will perform elementwise comparison\n",
      "  if self._edgecolors == str('face'):\n"
     ]
    },
    {
     "data": {
      "image/png": "[encoded data removed]",
      "text/plain": [
       "<matplotlib.figure.Figure at 0x106b43ac8>"
      ]
     },
     "metadata": {},
     "output_type": "display_data"
    }
   ],
   "source": [
    "#Plot the results\n",
    "plot = plt.contourf(nodes[:,0].reshape(3,4), nodes[:,1].reshape(3,4), u.reshape(3,4),cmap=\"coolwarm\")\n",
    "plt.colorbar(plot, orientation='horizontal', shrink=0.6);\n",
    "plt.clim(0,100)\n",
    "plt.axes().set_aspect('equal')"
   ]
  }
 ],
 "metadata": {
  "kernelspec": {
   "display_name": "Python 3 (ipykernel)",
   "language": "python",
   "name": "python3"
  },
  "language_info": {
   "codemirror_mode": {
    "name": "ipython",
    "version": 3
   },
   "file_extension": ".py",
   "mimetype": "text/x-python",
   "name": "python",
   "nbconvert_exporter": "python",
   "pygments_lexer": "ipython3",
   "version": "3.12.8"
  }
 },
 "nbformat": 4,
 "nbformat_minor": 1
}
