{
 "cells": [
  {
   "cell_type": "markdown",
   "metadata": {},
   "source": [
    "Homework Assignment 1\n",
    "=====================\n",
    "\n",
    "\n",
    "**Note**:  This is a computable IPython notebook who's source code can be downloaded [here](https://raw.githubusercontent.com/johnfoster-pge-utexas/PGE383-AdvGeomechanics/master/files/assignment1_solution.ipynb).\n",
    "\n",
    "## Problem 1\n",
    " \n",
    "The motion of a certain continuous medium is defined by the equations\n",
    " \n",
    "\\begin{align}\n",
    "  x_1 &= \\frac{1}{2} \\left( X_1 + X_2 \\right) e^t + \\frac{1}{2} \\left( X_1-X_2 \\right) e^{-t}, \\notag \\\\\n",
    "  x_2 &= \\frac{1}{2} \\left( X_1 + X_2 \\right) e^t - \\frac{1}{2} \\left( X_1-X_2 \\right) e^{-t}, \\notag \\\\\n",
    "  x_3 &= X_3 \\notag\n",
    "\\end{align}\n",
    "\n",
    "1. Compute the following\n",
    "\n",
    "   1. The Green-Lagrange strain tensor $E$\n",
    "   \n",
    "   1. The linear (small) strain tensor $\\varepsilon$\n",
    "\n",
    "   Plot the $11$, $22$, and $12$ components of $E$ and $\\varepsilon$ on the same figure\n",
    "   from time $t=0$ to $t=0.05$.\n",
    "   \n",
    "\n",
    "1. Compute the following\n",
    "\n",
    "   1. The rate-of-deformation tensor $D$\n",
    "   \n",
    "   1. The rate-of-change of the small strain tensor $\\dot{\\varepsilon} = \\frac{d\\varepsilon}{dt}$\n",
    "\n",
    "   Plot the $11$, $22$, and $12$ components of $D$ and $\\dot{\\varepsilon}$ on the same figure\n",
    "   from time $t=0$ to $t=0.05$.\n",
    "        \n",
    "        \n",
    "**Solution**"
   ]
  },
  {
   "cell_type": "markdown",
   "metadata": {},
   "source": [
    "This cell loads some important packages from sympy, numpy, and matplotlib that I will use the perform calculations and display the results neatly.  In order to run this notebook, you will have to have these packages installed in your Python distribution."
   ]
  },
  {
   "cell_type": "code",
   "execution_count": 1,
   "metadata": {
    "collapsed": false
   },
   "outputs": [],
   "source": [
    "from sympy import *\n",
    "from sympy.matrices import *\n",
    "import sympy.mpmath\n",
    "from sympy.utilities.lambdify import lambdify\n",
    "init_printing()\n",
    "\n",
    "import numpy\n",
    "\n",
    "%matplotlib inline\n",
    "import matplotlib.pyplot as plt\n",
    "#plt.style.available\n",
    "#plt.style.use('bmh')"
   ]
  },
  {
   "cell_type": "markdown",
   "metadata": {},
   "source": [
    "Defining which variables will be \"symbolic\" in nature, i.e., they will not take on numerical values."
   ]
  },
  {
   "cell_type": "code",
   "execution_count": 2,
   "metadata": {
    "collapsed": false
   },
   "outputs": [],
   "source": [
    "t, X1, X2, X3 = symbols('t, X_1, X_2, X_3')"
   ]
  },
  {
   "cell_type": "markdown",
   "metadata": {},
   "source": [
    "This defines the deformation mapping as in the problem statement."
   ]
  },
  {
   "cell_type": "code",
   "execution_count": 3,
   "metadata": {
    "collapsed": false
   },
   "outputs": [],
   "source": [
    "x1 = Rational(1, 2) * (X1 + X2) * exp(t) + Rational(1, 2) * (X1 - X2) * exp(-t)\n",
    "x2 = Rational(1, 2) * (X1 + X2) * exp(t) - Rational(1, 2) * (X1 - X2) * exp(-t)\n",
    "x3 = X3"
   ]
  },
  {
   "cell_type": "markdown",
   "metadata": {},
   "source": [
    "Now we compute the deformation gradient."
   ]
  },
  {
   "cell_type": "code",
   "execution_count": 4,
   "metadata": {
    "collapsed": false
   },
   "outputs": [
    {
     "data": {
      "image/png": "[encoded data removed]",
      "text/latex": [
       "$$\\left[\\begin{matrix}\\cosh{\\left (t \\right )} & \\sinh{\\left (t \\right )} & 0\\\\\\sinh{\\left (t \\right )} & \\cosh{\\left (t \\right )} & 0\\\\0 & 0 & 1\\end{matrix}\\right]$$"
      ],
      "text/plain": [
       "⎡cosh(t)  sinh(t)  0⎤\n",
       "⎢                   ⎥\n",
       "⎢sinh(t)  cosh(t)  0⎥\n",
       "⎢                   ⎥\n",
       "⎣   0        0     1⎦"
      ]
     },
     "execution_count": 4,
     "metadata": {},
     "output_type": "execute_result"
    }
   ],
   "source": [
    "F = simplify(Matrix([[diff(x1, X1), diff(x1, X2), diff(x1, X3)],\n",
    "            [diff(x2, X1), diff(x2, X2), diff(x2, X3)],\n",
    "            [diff(x3, X1), diff(x3, X2), diff(x3, X3)]])); F"
   ]
  },
  {
   "cell_type": "markdown",
   "metadata": {},
   "source": [
    "And the Green-Lagrange strain"
   ]
  },
  {
   "cell_type": "code",
   "execution_count": 5,
   "metadata": {
    "collapsed": false
   },
   "outputs": [
    {
     "data": {
      "image/png": "[encoded data removed]",
      "text/latex": [
       "$$\\left[\\begin{matrix}\\sinh^{2}{\\left (t \\right )} & \\frac{1}{2} \\sinh{\\left (2 t \\right )} & 0\\\\\\frac{1}{2} \\sinh{\\left (2 t \\right )} & \\sinh^{2}{\\left (t \\right )} & 0\\\\0 & 0 & 0\\end{matrix}\\right]$$"
      ],
      "text/plain": [
       "⎡    2      sinh(2⋅t)   ⎤\n",
       "⎢sinh (t)   ─────────  0⎥\n",
       "⎢               2       ⎥\n",
       "⎢                       ⎥\n",
       "⎢sinh(2⋅t)      2       ⎥\n",
       "⎢─────────  sinh (t)   0⎥\n",
       "⎢    2                  ⎥\n",
       "⎢                       ⎥\n",
       "⎣    0          0      0⎦"
      ]
     },
     "execution_count": 5,
     "metadata": {},
     "output_type": "execute_result"
    }
   ],
   "source": [
    "E = Rational(1, 2) * (F.T * F - eye(3)); simplify(E)"
   ]
  },
  {
   "cell_type": "markdown",
   "metadata": {},
   "source": [
    "We can immediatelly evaluate the linear \"small\" strain as well, directly with the deformation gradient."
   ]
  },
  {
   "cell_type": "code",
   "execution_count": 6,
   "metadata": {
    "collapsed": false
   },
   "outputs": [
    {
     "data": {
      "image/png": "[encoded data removed]",
      "text/latex": [
       "$$\\left[\\begin{matrix}\\cosh{\\left (t \\right )} - 1 & \\sinh{\\left (t \\right )} & 0\\\\\\sinh{\\left (t \\right )} & \\cosh{\\left (t \\right )} - 1 & 0\\\\0 & 0 & 0\\end{matrix}\\right]$$"
      ],
      "text/plain": [
       "⎡cosh(t) - 1    sinh(t)    0⎤\n",
       "⎢                           ⎥\n",
       "⎢  sinh(t)    cosh(t) - 1  0⎥\n",
       "⎢                           ⎥\n",
       "⎣     0            0       0⎦"
      ]
     },
     "execution_count": 6,
     "metadata": {},
     "output_type": "execute_result"
    }
   ],
   "source": [
    "epsilon = simplify(Rational(1,2) * (F.T + F) - eye(3)); simplify(epsilon)"
   ]
  },
  {
   "cell_type": "markdown",
   "metadata": {},
   "source": [
    "This turns our symbolic output into actual functions of $t$ that we can evaluate and plot"
   ]
  },
  {
   "cell_type": "code",
   "execution_count": 7,
   "metadata": {
    "collapsed": false
   },
   "outputs": [],
   "source": [
    "E11_function = lambdify(t, E[0,0], \"numpy\")\n",
    "epsilon11_function = lambdify(t, epsilon[0,0], \"numpy\")\n",
    "\n",
    "E22_function = lambdify(t, E[1,1], \"numpy\")\n",
    "epsilon22_function = lambdify(t, epsilon[1,1], \"numpy\")\n",
    "\n",
    "E12_function = lambdify(t, E[0,1], \"numpy\")\n",
    "epsilon12_function = lambdify(t, epsilon[0,1], \"numpy\")"
   ]
  },
  {
   "cell_type": "markdown",
   "metadata": {},
   "source": [
    "Evaluating the functions"
   ]
  },
  {
   "cell_type": "code",
   "execution_count": 9,
   "metadata": {
    "collapsed": false
   },
   "outputs": [],
   "source": [
    "t0 = numpy.linspace(0.0,0.05)\n",
    "\n",
    "E11 = E11_function(t0)\n",
    "epsilon11 = epsilon11_function(t0)\n",
    "\n",
    "E22 = E22_function(t0)\n",
    "epsilon22 = epsilon22_function(t0)\n",
    "\n",
    "E12 = E12_function(t0)\n",
    "epsilon12 = epsilon12_function(t0)"
   ]
  },
  {
   "cell_type": "markdown",
   "metadata": {},
   "source": [
    "Plotting the results"
   ]
  },
  {
   "cell_type": "code",
   "execution_count": 10,
   "metadata": {
    "collapsed": false
   },
   "outputs": [
    {
     "data": {
      "image/png": "[encoded data removed]",
      "text/plain": [
       "<matplotlib.figure.Figure at 0x1093617d0>"
      ]
     },
     "metadata": {},
     "output_type": "display_data"
    }
   ],
   "source": [
    "fig = plt.figure(1)\n",
    "ax = fig.add_subplot(111,xlabel='$t$', ylabel='$\\epsilon$')\n",
    "ax.plot(t0, E22,'k-', t0, epsilon22, 'k--',\n",
    "         t0, E12,'b-', t0, epsilon12, 'b--');\n",
    "plt.grid()\n",
    "ax.annotate('$E_{11}, E_{22}$', xy=(0.04, 0.001),  xycoords='data',\n",
    "            xytext=(0.03, 0.01), textcoords='data',\n",
    "            arrowprops=dict(arrowstyle=\"->\", connectionstyle=\"arc,angleA=0,armA=20,angleB=80,armB=10,rad=10\"),\n",
    "            fontsize='15'\n",
    "           )\n",
    "ax.annotate('$\\epsilon_{11}, \\epsilon_{22}$', xy=(0.05, 0.0008),  xycoords='data',\n",
    "            xytext=(0.042, 0.011), textcoords='data',\n",
    "            arrowprops=dict(arrowstyle=\"->\", connectionstyle=\"arc,angleA=0,armA=20,angleB=80,armB=10,rad=10\"),\n",
    "            fontsize='15'\n",
    "           )\n",
    "ax.annotate('$E_{12}, \\epsilon_{12}$', xy=(0.03, 0.03),  xycoords='data',\n",
    "            xytext=(0.035, 0.02), textcoords='data',\n",
    "            arrowprops=dict(arrowstyle=\"->\", connectionstyle=\"arc,angleA=90,armA=20,angleB=-80,armB=10,rad=10\"),\n",
    "            fontsize='15'\n",
    "           );\n",
    "ax.xaxis.label.set_size(20)\n",
    "ax.yaxis.label.set_size(20)"
   ]
  },
  {
   "cell_type": "markdown",
   "metadata": {},
   "source": [
    "Now compute the rate-of-deformation tensor, i.e. the symmetric part of the velocity gradient"
   ]
  },
  {
   "cell_type": "code",
   "execution_count": 11,
   "metadata": {
    "collapsed": false
   },
   "outputs": [
    {
     "data": {
      "image/png": "[encoded data removed]",
      "text/latex": [
       "$$\\left[\\begin{matrix}0 & 1 & 0\\\\1 & 0 & 0\\\\0 & 0 & 0\\end{matrix}\\right]$$"
      ],
      "text/plain": [
       "⎡0  1  0⎤\n",
       "⎢       ⎥\n",
       "⎢1  0  0⎥\n",
       "⎢       ⎥\n",
       "⎣0  0  0⎦"
      ]
     },
     "execution_count": 11,
     "metadata": {},
     "output_type": "execute_result"
    }
   ],
   "source": [
    "Fdot = F.diff(t);\n",
    "\n",
    "L = expand(Fdot * F.inv());\n",
    "\n",
    "D = simplify(Rational(1,2) * (L.T + L)); D"
   ]
  },
  {
   "cell_type": "markdown",
   "metadata": {},
   "source": [
    "And the linear \"small\" strain-rate, $\\dot{\\epsilon}$"
   ]
  },
  {
   "cell_type": "code",
   "execution_count": 12,
   "metadata": {
    "collapsed": false
   },
   "outputs": [
    {
     "data": {
      "image/png": "[encoded data removed]",
      "text/latex": [
       "$$\\left[\\begin{matrix}\\sinh{\\left (t \\right )} & \\cosh{\\left (t \\right )} & 0\\\\\\cosh{\\left (t \\right )} & \\sinh{\\left (t \\right )} & 0\\\\0 & 0 & 0\\end{matrix}\\right]$$"
      ],
      "text/plain": [
       "⎡sinh(t)  cosh(t)  0⎤\n",
       "⎢                   ⎥\n",
       "⎢cosh(t)  sinh(t)  0⎥\n",
       "⎢                   ⎥\n",
       "⎣   0        0     0⎦"
      ]
     },
     "execution_count": 12,
     "metadata": {},
     "output_type": "execute_result"
    }
   ],
   "source": [
    "epsilon_dot = epsilon.diff(t); epsilon_dot"
   ]
  },
  {
   "cell_type": "markdown",
   "metadata": {},
   "source": [
    "Now we will turn the symbolic small strain components into functions that we can evaluate in time. It's not necassary to perform this operation on the rate-of-deformation tensor because it has constant components"
   ]
  },
  {
   "cell_type": "code",
   "execution_count": 13,
   "metadata": {
    "collapsed": true
   },
   "outputs": [],
   "source": [
    "epsilon11_dot_function = lambdify(t, epsilon_dot[0,0], \"numpy\")\n",
    "\n",
    "epsilon22_dot_function = lambdify(t, epsilon_dot[1,1], \"numpy\")\n",
    "\n",
    "epsilon12_dot_function = lambdify(t, epsilon_dot[0,1], \"numpy\")"
   ]
  },
  {
   "cell_type": "markdown",
   "metadata": {},
   "source": [
    "Evaluating the functions"
   ]
  },
  {
   "cell_type": "code",
   "execution_count": 14,
   "metadata": {
    "collapsed": false
   },
   "outputs": [],
   "source": [
    "D11 = numpy.zeros_like(t0)\n",
    "epsilon11_dot = epsilon11_dot_function(t0)\n",
    "\n",
    "D22 = D11\n",
    "epsilon22_dot = epsilon22_dot_function(t0)\n",
    "\n",
    "D12 = numpy.ones_like(t0)\n",
    "epsilon12_dot = epsilon12_dot_function(t0)"
   ]
  },
  {
   "cell_type": "markdown",
   "metadata": {},
   "source": [
    "Plotting the results"
   ]
  },
  {
   "cell_type": "code",
   "execution_count": 15,
   "metadata": {
    "collapsed": false
   },
   "outputs": [
    {
     "data": {
      "image/png": "[encoded data removed]",
      "text/plain": [
       "<matplotlib.figure.Figure at 0x1093f6790>"
      ]
     },
     "metadata": {},
     "output_type": "display_data"
    }
   ],
   "source": [
    "fig = plt.figure(2)\n",
    "ax = fig.add_subplot(111,xlabel='$t$', ylabel='$\\dot{\\epsilon}$')\n",
    "ax.plot(t0, D11,'k-', t0, epsilon11_dot, 'k--',\n",
    "         t0, D12,'b-', t0, epsilon12_dot, 'b--');\n",
    "plt.grid()\n",
    "ax.annotate('$D_{11}, D_{22}$', xy=(0.04, 0.0),  xycoords='data',\n",
    "            xytext=(0.025, 0.15), textcoords='data',\n",
    "            arrowprops=dict(arrowstyle=\"->\", connectionstyle=\"arc,angleA=0,armA=20,angleB=80,armB=10,rad=10\"),\n",
    "            fontsize='15'\n",
    "           )\n",
    "ax.annotate('$\\dot{\\epsilon}_{11}, \\dot{\\epsilon}_{22}$', xy=(0.05, 0.03),  xycoords='data',\n",
    "            xytext=(0.04, 0.15), textcoords='data',\n",
    "            arrowprops=dict(arrowstyle=\"->\", connectionstyle=\"arc,angleA=0,armA=20,angleB=80,armB=10,rad=10\"),\n",
    "            fontsize='15'\n",
    "           )\n",
    "ax.annotate('$D_{12}, \\dot{\\epsilon}_{12}$', xy=(0.04, 1.0),  xycoords='data',\n",
    "            xytext=(0.035, 0.75), textcoords='data',\n",
    "            arrowprops=dict(arrowstyle=\"->\", connectionstyle=\"arc,angleA=90,armA=20,angleB=-80,armB=10,rad=10\"),\n",
    "            fontsize='15'\n",
    "           );\n",
    "ax.xaxis.label.set_size(20)\n",
    "ax.yaxis.label.set_size(20)"
   ]
  },
  {
   "cell_type": "markdown",
   "metadata": {},
   "source": [
    "## Problem 2\n",
    "\n",
    "\n",
    "Given the following stress tensor\n",
    "$$\n",
    "\\sigma =\n",
    "\\begin{bmatrix}\n",
    "  36 & 27 & 0 \\\\\n",
    "  27 & -36 & 0 \\\\\n",
    "  0  & 0  & 18 \n",
    "\\end{bmatrix}\n",
    "$$\n",
    "\n",
    "Find:\n",
    "\n",
    "1. the components of the traction vector acting on a plane with unit normal\n",
    "   vector $\\hat{n}^T = \\left[ 2/3, -2/3, 1/3 \\right]$\n",
    "\n",
    "1. the magnitude of the traction vector found in (a)\n",
    "\n",
    "1. its component in the direction of the normal\n",
    "\n",
    "1. a. the angle between the traction vector and the normal\n",
    "\n",
    "**Solution**"
   ]
  },
  {
   "cell_type": "markdown",
   "metadata": {},
   "source": [
    "Defining the stress tensor and normal vector"
   ]
  },
  {
   "cell_type": "code",
   "execution_count": 16,
   "metadata": {
    "collapsed": false
   },
   "outputs": [],
   "source": [
    "sigma = Matrix([[36, 27, 0],[27, -36, 0],[0, 0, 18]])\n",
    "n = Matrix([Rational(2, 3), Rational(-2, 3), Rational(1, 3)])"
   ]
  },
  {
   "cell_type": "markdown",
   "metadata": {},
   "source": [
    "The traction vector is then $\\vec{t} = \\sigma^{T} \\hat{n}$ according to the Cauchy stress equation."
   ]
  },
  {
   "cell_type": "code",
   "execution_count": 17,
   "metadata": {
    "collapsed": false
   },
   "outputs": [
    {
     "data": {
      "image/png": "[encoded data removed]",
      "text/latex": [
       "$$\\left[\\begin{matrix}6\\\\42\\\\6\\end{matrix}\\right]$$"
      ],
      "text/plain": [
       "⎡6 ⎤\n",
       "⎢  ⎥\n",
       "⎢42⎥\n",
       "⎢  ⎥\n",
       "⎣6 ⎦"
      ]
     },
     "execution_count": 17,
     "metadata": {},
     "output_type": "execute_result"
    }
   ],
   "source": [
    "t = sigma.T * n; t"
   ]
  },
  {
   "cell_type": "markdown",
   "metadata": {},
   "source": [
    "Computing the magnitude"
   ]
  },
  {
   "cell_type": "code",
   "execution_count": 18,
   "metadata": {
    "collapsed": false
   },
   "outputs": [
    {
     "data": {
      "text/plain": [
       "42.8485705712571"
      ]
     },
     "execution_count": 18,
     "metadata": {},
     "output_type": "execute_result"
    }
   ],
   "source": [
    "sympy.mpmath.mp.pretty = True\n",
    "magnitude = sympy.mpmath.norm(t,2); magnitude"
   ]
  },
  {
   "cell_type": "markdown",
   "metadata": {},
   "source": [
    "And the projection in the direction of the normal."
   ]
  },
  {
   "cell_type": "code",
   "execution_count": 19,
   "metadata": {
    "collapsed": false
   },
   "outputs": [
    {
     "data": {
      "image/png": "[encoded data removed]",
      "text/latex": [
       "$$\\left[\\begin{matrix}-22\\end{matrix}\\right]$$"
      ],
      "text/plain": [
       "[-22]"
      ]
     },
     "execution_count": 19,
     "metadata": {},
     "output_type": "execute_result"
    }
   ],
   "source": [
    "t.T * n"
   ]
  },
  {
   "cell_type": "markdown",
   "metadata": {},
   "source": [
    "The angle between the normal and the traction vector (in radians)"
   ]
  },
  {
   "cell_type": "code",
   "execution_count": 20,
   "metadata": {
    "collapsed": false
   },
   "outputs": [
    {
     "data": {
      "image/png": "[encoded data removed]",
      "text/latex": [
       "$$2.10998044394962$$"
      ],
      "text/plain": [
       "2.10998044394962"
      ]
     },
     "execution_count": 20,
     "metadata": {},
     "output_type": "execute_result"
    }
   ],
   "source": [
    "acos(((t / magnitude).T * n)[0])"
   ]
  },
  {
   "cell_type": "markdown",
   "metadata": {},
   "source": [
    "or in degree"
   ]
  },
  {
   "cell_type": "code",
   "execution_count": 21,
   "metadata": {
    "collapsed": false
   },
   "outputs": [
    {
     "data": {
      "image/png": "[encoded data removed]",
      "text/latex": [
       "$$120.892974293453$$"
      ],
      "text/plain": [
       "120.892974293453"
      ]
     },
     "execution_count": 21,
     "metadata": {},
     "output_type": "execute_result"
    }
   ],
   "source": [
    "_ * 180. / numpy.pi"
   ]
  },
  {
   "cell_type": "markdown",
   "metadata": {},
   "source": [
    "## Problem 3\n",
    "\n",
    "Given the following stress tensor\n",
    "$$\n",
    "\\sigma =\n",
    "\\begin{bmatrix}\n",
    "   18 & 0 & 24 \\\\\n",
    "   0 & -50 & 0 \\\\\n",
    "   24  & 0  & 32\n",
    "\\end{bmatrix}\n",
    "$$\n",
    "    \n",
    "Find:\n",
    "\n",
    "1. the principle stresses $\\sigma_{I}, \\sigma_{II}, \\sigma_{III}$\n",
    "\n",
    "1. the three invariants $I_{1}, I_{2}, I_{3}$\n",
    "\n",
    "1. the deviatoric stress\n",
    "\n",
    "1. the two nonzero invariants of the deviatoric stress, i.e. $J_{2}, J_{3}$\n",
    "\n",
    "**Solution**"
   ]
  },
  {
   "cell_type": "markdown",
   "metadata": {},
   "source": [
    "Defining the stress tensor"
   ]
  },
  {
   "cell_type": "code",
   "execution_count": 22,
   "metadata": {
    "collapsed": false
   },
   "outputs": [],
   "source": [
    "sigma = Matrix([[18, 0, 24],[0, -50, 0],[24, 0, 32]])"
   ]
  },
  {
   "cell_type": "markdown",
   "metadata": {},
   "source": [
    "Here we use sympy to diagonalize (or find the eigenvalues, they are shown on the diagonal of the matrix.  We then define $\\sigma_I > \\sigma_{II} > \\sigma_{III}$ accordingly."
   ]
  },
  {
   "cell_type": "code",
   "execution_count": 23,
   "metadata": {
    "collapsed": false
   },
   "outputs": [
    {
     "data": {
      "image/png": "[encoded data removed]",
      "text/latex": [
       "$$\\left[\\begin{matrix}-50 & 0 & 0\\\\0 & 0 & 0\\\\0 & 0 & 50\\end{matrix}\\right]$$"
      ],
      "text/plain": [
       "⎡-50  0  0 ⎤\n",
       "⎢          ⎥\n",
       "⎢ 0   0  0 ⎥\n",
       "⎢          ⎥\n",
       "⎣ 0   0  50⎦"
      ]
     },
     "execution_count": 23,
     "metadata": {},
     "output_type": "execute_result"
    }
   ],
   "source": [
    "_, D = sigma.diagonalize();\n",
    "sigma1 = D[2,2];sigma2 = D[1,1]; sigma3 = D[0,0]; D"
   ]
  },
  {
   "cell_type": "markdown",
   "metadata": {},
   "source": [
    "The first, second, and third invariants"
   ]
  },
  {
   "cell_type": "code",
   "execution_count": 24,
   "metadata": {
    "collapsed": false
   },
   "outputs": [
    {
     "data": {
      "image/png": "[encoded data removed]",
      "text/latex": [
       "$$0$$"
      ],
      "text/plain": [
       "0"
      ]
     },
     "execution_count": 24,
     "metadata": {},
     "output_type": "execute_result"
    }
   ],
   "source": [
    "I1 = sigma1 + sigma2 + sigma3; I1"
   ]
  },
  {
   "cell_type": "code",
   "execution_count": 25,
   "metadata": {
    "collapsed": false
   },
   "outputs": [
    {
     "data": {
      "image/png": "[encoded data removed]",
      "text/latex": [
       "$$-2500$$"
      ],
      "text/plain": [
       "-2500"
      ]
     },
     "execution_count": 25,
     "metadata": {},
     "output_type": "execute_result"
    }
   ],
   "source": [
    "I2 = sigma1 * sigma2 + sigma1 * sigma3 + sigma2 * sigma3; I2"
   ]
  },
  {
   "cell_type": "code",
   "execution_count": 26,
   "metadata": {
    "collapsed": false
   },
   "outputs": [
    {
     "data": {
      "image/png": "[encoded data removed]",
      "text/latex": [
       "$$0$$"
      ],
      "text/plain": [
       "0"
      ]
     },
     "execution_count": 26,
     "metadata": {},
     "output_type": "execute_result"
    }
   ],
   "source": [
    "I3 = sigma1 * sigma2 * sigma3; I3"
   ]
  },
  {
   "cell_type": "markdown",
   "metadata": {},
   "source": [
    "The deviatoric stress"
   ]
  },
  {
   "cell_type": "code",
   "execution_count": 27,
   "metadata": {
    "collapsed": false
   },
   "outputs": [
    {
     "data": {
      "image/png": "[encoded data removed]",
      "text/latex": [
       "$$\\left[\\begin{matrix}18 & 0 & 24\\\\0 & -50 & 0\\\\24 & 0 & 32\\end{matrix}\\right]$$"
      ],
      "text/plain": [
       "⎡18   0   24⎤\n",
       "⎢           ⎥\n",
       "⎢0   -50  0 ⎥\n",
       "⎢           ⎥\n",
       "⎣24   0   32⎦"
      ]
     },
     "execution_count": 27,
     "metadata": {},
     "output_type": "execute_result"
    }
   ],
   "source": [
    "Sij = sigma - 1. / 3. * I1 * eye(3); Sij"
   ]
  },
  {
   "cell_type": "markdown",
   "metadata": {},
   "source": [
    "Here we perform the same procedure on the deviatoric stress and compute the invariants."
   ]
  },
  {
   "cell_type": "code",
   "execution_count": 28,
   "metadata": {
    "collapsed": false
   },
   "outputs": [
    {
     "data": {
      "image/png": "[encoded data removed]",
      "text/latex": [
       "$$-2500$$"
      ],
      "text/plain": [
       "-2500"
      ]
     },
     "execution_count": 28,
     "metadata": {},
     "output_type": "execute_result"
    }
   ],
   "source": [
    "_, D = Sij.diagonalize();\n",
    "Sij1 = D[2,2]; Sij2 = D[1,1]; Sij3 = D[0,0]; \n",
    "\n",
    "J2 = Sij1 * Sij2 + Sij1 * Sij3 + Sij2 * Sij3; J2"
   ]
  },
  {
   "cell_type": "code",
   "execution_count": 29,
   "metadata": {
    "collapsed": false
   },
   "outputs": [
    {
     "data": {
      "image/png": "[encoded data removed]",
      "text/latex": [
       "$$0$$"
      ],
      "text/plain": [
       "0"
      ]
     },
     "execution_count": 29,
     "metadata": {},
     "output_type": "execute_result"
    }
   ],
   "source": [
    "J3 = Sij1 * Sij2 * Sij3; J3"
   ]
  },
  {
   "cell_type": "markdown",
   "metadata": {},
   "source": [
    "## Problem 4\n",
    "\n",
    "Show that\n",
    "$$\n",
    " \\frac{\\partial J_2}{\\partial \\sigma_{ij}} = S_{ij}\n",
    "$$\n",
    "where $J_2$ is the second invariant of the deviatoric stress tensor, $S_{ij}$.\n",
    "    \n",
    "\n",
    "**Solution**\n",
    "\n",
    "\\begin{align}\n",
    "\\frac{\\partial J_2}{\\partial \\sigma_{ij}} &= \\frac{\\partial}{\\partial \\sigma_{ij}}\\left(J_2\\right) \\\\\n",
    "                                          &= \\frac{\\partial}{\\partial \\sigma_{ij}}\\left(\\frac{1}{2}S_{kl}S_{kl}\\right) \\\\\n",
    "                                          &= \\frac{1}{2} \\left(\\frac{\\partial}{\\partial \\sigma_{ij}}\\left(S_{kl}\\right)S_{kl} + S_{kl}\\frac{\\partial}{\\partial \\sigma_{ij}}\\left(S_{kl}\\right) \\right) \\\\   \n",
    "                                          &= S_{kl}\\frac{\\partial}{\\partial \\sigma_{ij}}\\left(S_{kl}\\right) \\\\\n",
    "                                          &= S_{kl}\\frac{\\partial}{\\partial \\sigma_{ij}}\\left(\\sigma_{kl} - \\frac{1}{3} \\sigma_{mm}\\delta_{kl}\\right) \\\\\n",
    "                                          &= S_{kl}\\left(\\delta_{il}\\delta_{kj} - \\frac{1}{3} \\delta_{im}\\delta_{jm}\\delta_{kl}\\right) \\\\\n",
    "                                          &= S_{kl}\\left(\\delta_{il}\\delta_{kj} - \\frac{1}{3} \\delta_{ij}\\delta_{kl}\\right) \\\\\n",
    "                                          &= S_{ij} - \\frac{1}{3} S_{kk} \\delta_{ij} \\\\\n",
    "                                          &= S_{ij}\n",
    "\\end{align}        \n",
    "\n",
    "because\n",
    "\n",
    "$$\n",
    "S_{kk} =0\n",
    "$$\n",
    "\n",
    "by definition of $S$ being a deviatoric tensor."
   ]
  },
  {
   "cell_type": "markdown",
   "metadata": {},
   "source": [
    "## Problem 5\n",
    " \n",
    "For each of the following stress states (values not given are zero), plot the three Mohr's circles and\n",
    "determine the maximum shear stress.\n",
    "    \n",
    "1. Uniaxial tension $\\sigma_{11} = 40$\n",
    "\n",
    "1. Biaxial stress $\\sigma_{11} = -10, \\sigma_{22} = 30$\n",
    "\n",
    "1. Hydrostatic tension of magnitude 100 psi\n",
    "    \n",
    "1. $\\sigma_{11} = -60, \\sigma_{22} = 100, \\sigma_{33} = 40$\n",
    "\n",
    "1. $\\sigma_{11} = 10, \\sigma_{22} = 40, \\sigma_{21} = \\sigma_{12} = 20$\n",
    "\n",
    "\n",
    "**Solution**"
   ]
  },
  {
   "cell_type": "code",
   "execution_count": 30,
   "metadata": {
    "collapsed": false
   },
   "outputs": [
    {
     "data": {
      "image/png": "[encoded data removed]",
      "text/plain": [
       "<matplotlib.figure.Figure at 0x109724450>"
      ]
     },
     "metadata": {},
     "output_type": "display_data"
    }
   ],
   "source": [
    "fig = plt.figure()\n",
    "ax = fig.add_subplot(111,xlabel='$\\sigma_n$', ylabel='$\\sigma_t$',title='Uniaxial tension, $\\sigma_{11}=40$')\n",
    "ax.xaxis.label.set_size(20)\n",
    "ax.yaxis.label.set_size(20)\n",
    "ax.axhline(0, color='black', lw=2)\n",
    "ax.axvline(0, color='black', lw=2)\n",
    "ax.annotate('$\\sigma_{II},\\sigma_{III}$', xy=(0.04, 1.0),  xycoords='data', fontsize='15');\n",
    "ax.annotate('$\\sigma_{I}$', xy=(40, 1.0),  xycoords='data', fontsize='15');\n",
    "circ = plt.Circle((0.5*(40-0), 0), radius=20, fill=False, color='b')\n",
    "ax.add_patch(circ)\n",
    "plt.axis('equal')\n",
    "plt.grid()\n",
    "plt.show()"
   ]
  },
  {
   "cell_type": "code",
   "execution_count": 31,
   "metadata": {
    "collapsed": false
   },
   "outputs": [
    {
     "data": {
      "image/png": "[encoded data removed]",
      "text/plain": [
       "<matplotlib.figure.Figure at 0x109768b10>"
      ]
     },
     "metadata": {},
     "output_type": "display_data"
    }
   ],
   "source": [
    "fig = plt.figure()\n",
    "ax = fig.add_subplot(111,xlabel='$\\sigma_n$', ylabel='$\\sigma_t$',title='Biaxial stress, $\\sigma_{11}=-10, \\sigma_{22}=30$')\n",
    "ax.xaxis.label.set_size(20)\n",
    "ax.yaxis.label.set_size(20)\n",
    "ax.axhline(0, color='black', lw=2)\n",
    "ax.axvline(0, color='black', lw=2)\n",
    "ax.annotate('$\\sigma_{III}$', xy=(-10, 1.0),  xycoords='data', fontsize='15');\n",
    "ax.annotate('$\\sigma_{II}$', xy=(0.04, 1.0),  xycoords='data', fontsize='15');\n",
    "ax.annotate('$\\sigma_{I}$', xy=(30, 1.0),  xycoords='data', fontsize='15');\n",
    "circ1 = plt.Circle((0.5*(30+(-10)), 0), radius=20, fill=False, color='b')\n",
    "circ2 = plt.Circle((0.5*(30+(0)), 0), radius=15, fill=False, color='b')\n",
    "circ3 = plt.Circle((-5, 0), radius=5, fill=False, color='b')\n",
    "ax.add_patch(circ1)\n",
    "ax.add_patch(circ2)\n",
    "ax.add_patch(circ3)\n",
    "plt.axis('equal')\n",
    "plt.grid()\n",
    "plt.show()"
   ]
  },
  {
   "cell_type": "markdown",
   "metadata": {},
   "source": [
    "**For the hydostatic tension case, there are no Mohr's circles to draw because $\\sigma_I = \\sigma_{II} =  \\sigma_{III}$**"
   ]
  },
  {
   "cell_type": "code",
   "execution_count": 32,
   "metadata": {
    "collapsed": false
   },
   "outputs": [
    {
     "data": {
      "image/png": "[encoded data removed]",
      "text/plain": [
       "<matplotlib.figure.Figure at 0x109530710>"
      ]
     },
     "metadata": {},
     "output_type": "display_data"
    }
   ],
   "source": [
    "fig = plt.figure()\n",
    "ax = fig.add_subplot(111,xlabel='$\\sigma_n$', ylabel='$\\sigma_t$',\n",
    "                     title='$\\sigma_{11} = -60, \\sigma_{22} = 100, \\sigma_{33} = 40$')\n",
    "ax.xaxis.label.set_size(20)\n",
    "ax.yaxis.label.set_size(20)\n",
    "ax.axhline(0, color='black', lw=2)\n",
    "ax.axvline(0, color='black', lw=2)\n",
    "ax.annotate('$\\sigma_{III}$', xy=(-60, 1.0),  xycoords='data', fontsize='15');\n",
    "ax.annotate('$\\sigma_{II}$', xy=(40, 1.0),  xycoords='data', fontsize='15');\n",
    "ax.annotate('$\\sigma_{I}$', xy=(100, 1.0),  xycoords='data', fontsize='15');\n",
    "circ1 = plt.Circle((0.5*(100+(-60)), 0), radius=80, fill=False, color='b')\n",
    "circ2 = plt.Circle((70, 0), radius=30, fill=False, color='b')\n",
    "circ3 = plt.Circle((-10, 0), radius=50, fill=False, color='b')\n",
    "ax.add_patch(circ1)\n",
    "ax.add_patch(circ2)\n",
    "ax.add_patch(circ3)\n",
    "plt.axis('equal')\n",
    "plt.grid()\n",
    "plt.show()"
   ]
  },
  {
   "cell_type": "code",
   "execution_count": 33,
   "metadata": {
    "collapsed": false
   },
   "outputs": [
    {
     "data": {
      "image/png": "[encoded data removed]",
      "text/latex": [
       "$$\\left[\\begin{matrix}0 & 0 & 0\\\\0 & 0 & 0\\\\0 & 0 & 50\\end{matrix}\\right]$$"
      ],
      "text/plain": [
       "⎡0  0  0 ⎤\n",
       "⎢        ⎥\n",
       "⎢0  0  0 ⎥\n",
       "⎢        ⎥\n",
       "⎣0  0  50⎦"
      ]
     },
     "execution_count": 33,
     "metadata": {},
     "output_type": "execute_result"
    }
   ],
   "source": [
    "sigma = Matrix([[10,20,0],[20,40,0],[0,0,0]])\n",
    "_, D = sigma.diagonalize(); D"
   ]
  },
  {
   "cell_type": "code",
   "execution_count": 34,
   "metadata": {
    "collapsed": false
   },
   "outputs": [
    {
     "data": {
      "image/png": "[encoded data removed]",
      "text/plain": [
       "<matplotlib.figure.Figure at 0x1096e7050>"
      ]
     },
     "metadata": {},
     "output_type": "display_data"
    }
   ],
   "source": [
    "fig = plt.figure()\n",
    "ax = fig.add_subplot(111,xlabel='$\\sigma_n$', ylabel='$\\sigma_t$',\n",
    "                     title='$\\sigma_{11} = 10, \\sigma_{22} = 40, \\sigma_{21} = \\sigma_{12} = 20$')\n",
    "ax.xaxis.label.set_size(20)\n",
    "ax.yaxis.label.set_size(20)\n",
    "ax.axhline(0, color='black', lw=2)\n",
    "ax.axvline(0, color='black', lw=2)\n",
    "ax.annotate('$\\sigma_{II},\\sigma_{III}$', xy=(0.04, 1.0),  xycoords='data', fontsize='15');\n",
    "ax.annotate('$\\sigma_{I}$', xy=(50, 1.0),  xycoords='data', fontsize='15');\n",
    "circ = plt.Circle((0.5*(50-0), 0), radius=25, fill=False, color='b')\n",
    "ax.add_patch(circ)\n",
    "plt.axis('equal')\n",
    "plt.grid()\n",
    "plt.show()"
   ]
  }
 ],
 "metadata": {
  "kernelspec": {
   "display_name": "Python 2",
   "language": "python",
   "name": "python2"
  },
  "language_info": {
   "codemirror_mode": {
    "name": "ipython",
    "version": 2
   },
   "file_extension": ".py",
   "mimetype": "text/x-python",
   "name": "python",
   "nbconvert_exporter": "python",
   "pygments_lexer": "ipython2",
   "version": "2.7.10"
  }
 },
 "nbformat": 4,
 "nbformat_minor": 0
}
