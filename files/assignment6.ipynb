{
 "cells": [
  {
   "cell_type": "markdown",
   "metadata": {},
   "source": [
    "# Assignment 6\n",
    "\n",
    "\n",
    "Your objective is to implement a plasticty return algorithm for the case of a **Drucker-Prager model with isotropic linear hardening plasticity**.  You can use the provided *Mathematica* code as a template to modify or otherwise as a resource for creating your own implementation.  \n",
    "\n",
    "[Mathematica Template Code (.nb)](http://johnfoster.pge.utexas.edu/PGE383-AdvGeomechanics/notes/NonlinearFEA_RateForm.nb)\n",
    "\n",
    "[Mathematica Template Code (.pdf)](http://johnfoster.pge.utexas.edu/PGE383-AdvGeomechanics/notes/NonlinearFEA_RateForm.pdf)\n",
    "\n",
    "Use resonable material properties and produce convincing plots that assist in the verification of your model.\n",
    "\n",
    "Submit a working version of your code and sufficient verification evidence to Canvas by **Friday, December 4, 11:00 AM**.  "
   ]
  }
 ],
 "metadata": {
  "kernelspec": {
   "display_name": "Python 3",
   "language": "python",
   "name": "python3"
  },
  "language_info": {
   "codemirror_mode": {
    "name": "ipython",
    "version": 3
   },
   "file_extension": ".py",
   "mimetype": "text/x-python",
   "name": "python",
   "nbconvert_exporter": "python",
   "pygments_lexer": "ipython3",
   "version": "3.5.0"
  }
 },
 "nbformat": 4,
 "nbformat_minor": 0
}
