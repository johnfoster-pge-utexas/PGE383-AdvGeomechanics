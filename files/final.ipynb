{
 "cells": [
  {
   "cell_type": "markdown",
   "metadata": {},
   "source": [
    "# Final project\n",
    "\n",
    "While drilling a well, it can be advantageous to drill in an \"under balanced\" scenerio, where the well bore (i.e. mudwieght) pressure is maintained below the pore pressure.  This can improve the rate-of-penetration and life of the bit.  The disadvantage is that now you must handle the production of reservior fluids while drilling, and wellbore stability could be an issue.  Using the mesh and boundary condition nodesets from [Homework Assignment 5](http://nbviewer.ipython.org/github/johnfoster-pge-utexas/PGE383-AdvGeomechanics/blob/master/files/assignment5.ipynb), and your Drucker-Prager constitutive model from [Homework Assignment 6](http://nbviewer.ipython.org/github/johnfoster-pge-utexas/PGE383-AdvGeomechanics/blob/master/files/assignment6.ipynb), your goal is to solve a fully coupled poro-plasticity problem for this scenerio.\n",
    "\n",
    "The reservior has the following conditions:\n",
    "\n",
    "$$\n",
    "\\boldsymbol{\\sigma}_{0} = \n",
    "\\begin{bmatrix}\n",
    "S_{hmin} & 0 \\\\\n",
    "0 & S_{Hmax}\n",
    "\\end{bmatrix}\n",
    "=\n",
    "\\begin{bmatrix}\n",
    "51.5 & 0 \\\\\n",
    "0 & 90\n",
    "\\end{bmatrix} \\text{MPa}\n",
    "$$\n",
    "\n",
    "where $\\sigma_{0}$ is a far-field, in-situ stress that is added to the regular consititive model, i.e.\n",
    "\n",
    "$$\n",
    "\\boldsymbol{\\sigma} = f(\\boldsymbol{\\varepsilon}, \\varepsilon^p) + \\boldsymbol{\\sigma}_0\n",
    "$$\n",
    "\n",
    "The reservior (for simplicity, we'll only consider fully sateratured water, $\\mu_f = 1.0 \\text{cp}$, $\\rho_f = 1 \\, \\text{gm/cm}$) is initially at $P_0 = 31.5\\, \\text{MPa}$.  Develop a transiet analysis that periodically adjusts the well bore pressure to maintain a $\\Delta P \\approx -0.5 \\, \\text{MPa}$, it should never be allowed to become positive.  Use a plain-strain elasticity model with elastic constants of $E=20\\, \\text{GPa}$ and $\\nu = 0.2$. Use a Biot coefficient of $\\alpha = 1$. The Drucker-Prager material constants are given as relations to the more common parameters of $C_0$ and $\\mu_I$.\n",
    "\n",
    "$$\n",
    "\\beta = \\frac{6 \\sin \\phi}{\\sqrt{3} (3-\\sin \\phi)},\n",
    "$$\n",
    "\n",
    "$$\n",
    "Y_0 = \\frac{\\sqrt{3} C_0 \\cos \\phi}{\\sqrt{q} ( 3 - \\sin \\phi)},\n",
    "$$\n",
    "\n",
    "$$\n",
    "\\phi = \\tan^{-1}\\left(\\mu_I\\right),\n",
    "$$\n",
    "\n",
    "$$\n",
    "q = \\left( \\sqrt{\\mu_I^2 + 1} + \\mu_I \\right)^2,\n",
    "$$\n",
    "\n",
    "with $C_0 = 45 \\, \\text{MPa}$ and $\\mu_I = 1.0$ for this problem.  There is no strain-hardening.  The rock is a sandstone with an isotropic permeability of $k=100 \\, \\text{md}$ and porosity of $10\\%$.  You can choose to ignore the inertia of the solid material if you wish; however if you want to include it choose and appropriate density for the mixture.  Also ignore gravity.  All of the fluid boundary conditions are no-flow execept for the wellbore.  The displacement should be fixed in the far-field and symmetry conditions along the symmetric axis as in HW5.\n",
    "\n",
    "Submit a working version of your code to Canvas along with a contuour plot of equivalent plastic strain (these can be used to determine breakout widths and make decisions regarding the stability of the well bore.)  Also turn in a plot of reservior fluid production rate (per unit cross-section area) as a function of time.  (Run the simulation as long as necassary to produce a reasonable plot.)"
   ]
  }
 ],
 "metadata": {
  "kernelspec": {
   "display_name": "Python 3 (ipykernel)",
   "language": "python",
   "name": "python3"
  },
  "language_info": {
   "codemirror_mode": {
    "name": "ipython",
    "version": 3
   },
   "file_extension": ".py",
   "mimetype": "text/x-python",
   "name": "python",
   "nbconvert_exporter": "python",
   "pygments_lexer": "ipython3",
   "version": "3.12.8"
  }
 },
 "nbformat": 4,
 "nbformat_minor": 1
}
